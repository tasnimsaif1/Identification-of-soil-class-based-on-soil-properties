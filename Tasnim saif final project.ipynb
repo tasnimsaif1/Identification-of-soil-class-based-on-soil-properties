{
 "cells": [
  {
   "cell_type": "code",
   "execution_count": 1,
   "id": "d5c9aae3",
   "metadata": {},
   "outputs": [
    {
     "name": "stdout",
     "output_type": "stream",
     "text": [
      "Enter pH: 7\n",
      "Enter sand content (%): 40\n",
      "Enter silt content (%): 50\n",
      "Enter clay content (%): 65\n",
      "Soil type is: Vertisol\n"
     ]
    }
   ],
   "source": [
    "###Identification of soil class based on soil physical and chemical properties using Python.\n",
    "\n",
    "\n",
    "def classify_soil(ph, sand, silt, clay):\n",
    "    if 0.0 <= ph < 5.5:\n",
    "        ph_class = \"Acidic\"\n",
    "    elif 5.5 <= ph <= 7.0:\n",
    "        ph_class = \"Neutral\"\n",
    "    elif 7.0 < ph <= 14.0:\n",
    "        ph_class = \"Alkaline\"\n",
    "    else:\n",
    "        ph_class= \"Unknown\"\n",
    "        \n",
    "    texture = \"\"\n",
    "    if sand > 50:\n",
    "        texture = \"Sandy\"\n",
    "    elif clay > 40:\n",
    "        texture = \"Clayey\"\n",
    "    else:\n",
    "        texture = \"Loamy\"\n",
    "    if ph_class == \"Acidic\" and texture == \"Clayey\":\n",
    "        soil_type = \"Peat\"\n",
    "    elif ph_class == \"Alkaline\" and texture == \"Sandy\":\n",
    "        soil_type = \"Calcareous\"\n",
    "    elif ph_class == \"Neutral\" and texture == \"Loamy\":\n",
    "        soil_type = \"Silt\"\n",
    "    elif ph_class == \"Acidic\" and texture == \"Sandy\":\n",
    "        soil_type = \"Podzol\"\n",
    "    elif ph_class == \"Neutral\" and texture == \"Clayey\":\n",
    "        soil_type = \"Vertisol\"\n",
    "    elif ph_class == \"Alkaline\" and texture == \"Loamy\":\n",
    "        soil_type = \"Chernozem\"\n",
    "    elif ph_class == \"Acidic\" and texture == \"Loamy\":\n",
    "        soil_type = \"Histosol\"\n",
    "    elif ph_class == \"Neutral\" and texture == \"Sandy\":\n",
    "        soil_type = \"Gleysol\"\n",
    "    elif ph_class == \"Alkaline\" and texture == \"Clayey\":\n",
    "        soil_type = \"Kastanozem\"\n",
    "    else:\n",
    "        soil_type = \"Unknown\"\n",
    "\n",
    "    return soil_type\n",
    "ph = float(input(\"Enter pH: \"))\n",
    "sand = float(input(\"Enter sand content (%): \"))\n",
    "silt = float(input(\"Enter silt content (%): \"))\n",
    "clay = float(input(\"Enter clay content (%): \"))\n",
    "\n",
    "soil_type = classify_soil(ph, sand, silt, clay)\n",
    "print(\"Soil type is:\", soil_type)"
   ]
  },
  {
   "cell_type": "code",
   "execution_count": null,
   "id": "ed76eed7",
   "metadata": {},
   "outputs": [],
   "source": []
  }
 ],
 "metadata": {
  "kernelspec": {
   "display_name": "Python 3 (ipykernel)",
   "language": "python",
   "name": "python3"
  },
  "language_info": {
   "codemirror_mode": {
    "name": "ipython",
    "version": 3
   },
   "file_extension": ".py",
   "mimetype": "text/x-python",
   "name": "python",
   "nbconvert_exporter": "python",
   "pygments_lexer": "ipython3",
   "version": "3.11.7"
  }
 },
 "nbformat": 4,
 "nbformat_minor": 5
}
